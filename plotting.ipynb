{
 "cells": [
  {
   "cell_type": "code",
   "execution_count": null,
   "metadata": {},
   "outputs": [],
   "source": [
    "import numpy as np\n",
    "import matplotlib.pyplot as plt \n",
    "import os "
   ]
  },
  {
   "cell_type": "code",
   "execution_count": null,
   "metadata": {},
   "outputs": [],
   "source": [
    "def read_data(file_path): \n",
    "    axes = []\n",
    "    results = []\n",
    "    with open(file_path, 'r') as f: \n",
    "        for line in f: \n",
    "            parts = line.split()\n",
    "            n_var = int(parts[0])\n",
    "            result = float(parts[1])\n",
    "            axes.append(n_var)\n",
    "            results.append(result)\n",
    "    return np.array(axes), np.array(results)\n"
   ]
  },
  {
   "cell_type": "code",
   "execution_count": null,
   "metadata": {},
   "outputs": [],
   "source": [
    "def plot_data(results, variables, x_axis, plot_title): \n",
    "    plt.plot(np.log(variables), np.log(results)) \n",
    "    plt.xlabel(f'Log {x_axis}')\n",
    "    plt.ylabel(f'Log Simulation Time (s)')\n",
    "    plt.title(plot_title)\n",
    "    plt.show();\n",
    "\n",
    "    \n"
   ]
  }
 ],
 "metadata": {
  "language_info": {
   "name": "python"
  }
 },
 "nbformat": 4,
 "nbformat_minor": 2
}
